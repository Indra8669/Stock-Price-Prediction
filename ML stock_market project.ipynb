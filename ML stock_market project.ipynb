{
 "cells": [
  {
   "cell_type": "code",
   "execution_count": 1,
   "id": "360625b5",
   "metadata": {},
   "outputs": [
    {
     "name": "stdout",
     "output_type": "stream",
     "text": [
      "Requirement already satisfied: tensorflow in c:\\users\\indrajeet\\.conda\\envs\\tensorflow\\lib\\site-packages (2.3.0)\n",
      "Requirement already satisfied: tensorflow-estimator<2.4.0,>=2.3.0 in c:\\users\\indrajeet\\.conda\\envs\\tensorflow\\lib\\site-packages (from tensorflow) (2.3.0)\n",
      "Requirement already satisfied: h5py<2.11.0,>=2.10.0 in c:\\users\\indrajeet\\.conda\\envs\\tensorflow\\lib\\site-packages (from tensorflow) (2.10.0)\n",
      "Requirement already satisfied: wheel>=0.26 in c:\\users\\indrajeet\\.conda\\envs\\tensorflow\\lib\\site-packages (from tensorflow) (0.36.2)\n",
      "Requirement already satisfied: six>=1.12.0 in c:\\users\\indrajeet\\.conda\\envs\\tensorflow\\lib\\site-packages (from tensorflow) (1.16.0)\n",
      "Requirement already satisfied: termcolor>=1.1.0 in c:\\users\\indrajeet\\.conda\\envs\\tensorflow\\lib\\site-packages (from tensorflow) (1.1.0)\n",
      "Requirement already satisfied: google-pasta>=0.1.8 in c:\\users\\indrajeet\\.conda\\envs\\tensorflow\\lib\\site-packages (from tensorflow) (0.2.0)\n",
      "Requirement already satisfied: tensorboard<3,>=2.3.0 in c:\\users\\indrajeet\\.conda\\envs\\tensorflow\\lib\\site-packages (from tensorflow) (2.4.0)\n",
      "Requirement already satisfied: scipy==1.4.1 in c:\\users\\indrajeet\\.conda\\envs\\tensorflow\\lib\\site-packages (from tensorflow) (1.4.1)\n",
      "Requirement already satisfied: astunparse==1.6.3 in c:\\users\\indrajeet\\.conda\\envs\\tensorflow\\lib\\site-packages (from tensorflow) (1.6.3)\n",
      "Requirement already satisfied: opt-einsum>=2.3.2 in c:\\users\\indrajeet\\.conda\\envs\\tensorflow\\lib\\site-packages (from tensorflow) (3.3.0)\n",
      "Requirement already satisfied: gast==0.3.3 in c:\\users\\indrajeet\\.conda\\envs\\tensorflow\\lib\\site-packages (from tensorflow) (0.3.3)\n",
      "Requirement already satisfied: wrapt>=1.11.1 in c:\\users\\indrajeet\\.conda\\envs\\tensorflow\\lib\\site-packages (from tensorflow) (1.12.1)\n",
      "Requirement already satisfied: numpy<1.19.0,>=1.16.0 in c:\\users\\indrajeet\\.conda\\envs\\tensorflow\\lib\\site-packages (from tensorflow) (1.18.5)\n",
      "Requirement already satisfied: absl-py>=0.7.0 in c:\\users\\indrajeet\\.conda\\envs\\tensorflow\\lib\\site-packages (from tensorflow) (0.13.0)\n",
      "Requirement already satisfied: protobuf>=3.9.2 in c:\\users\\indrajeet\\.conda\\envs\\tensorflow\\lib\\site-packages (from tensorflow) (3.17.2)\n",
      "Requirement already satisfied: grpcio>=1.8.6 in c:\\users\\indrajeet\\.conda\\envs\\tensorflow\\lib\\site-packages (from tensorflow) (1.36.1)\n",
      "Requirement already satisfied: keras-preprocessing<1.2,>=1.1.1 in c:\\users\\indrajeet\\.conda\\envs\\tensorflow\\lib\\site-packages (from tensorflow) (1.1.2)\n",
      "Requirement already satisfied: markdown>=2.6.8 in c:\\users\\indrajeet\\.conda\\envs\\tensorflow\\lib\\site-packages (from tensorboard<3,>=2.3.0->tensorflow) (3.3.4)\n",
      "Requirement already satisfied: requests<3,>=2.21.0 in c:\\users\\indrajeet\\.conda\\envs\\tensorflow\\lib\\site-packages (from tensorboard<3,>=2.3.0->tensorflow) (2.25.1)\n",
      "Requirement already satisfied: werkzeug>=0.11.15 in c:\\users\\indrajeet\\.conda\\envs\\tensorflow\\lib\\site-packages (from tensorboard<3,>=2.3.0->tensorflow) (1.0.1)\n",
      "Requirement already satisfied: tensorboard-plugin-wit>=1.6.0 in c:\\users\\indrajeet\\.conda\\envs\\tensorflow\\lib\\site-packages (from tensorboard<3,>=2.3.0->tensorflow) (1.6.0)\n",
      "Requirement already satisfied: setuptools>=41.0.0 in c:\\users\\indrajeet\\.conda\\envs\\tensorflow\\lib\\site-packages (from tensorboard<3,>=2.3.0->tensorflow) (52.0.0.post20210125)\n",
      "Requirement already satisfied: google-auth-oauthlib<0.5,>=0.4.1 in c:\\users\\indrajeet\\.conda\\envs\\tensorflow\\lib\\site-packages (from tensorboard<3,>=2.3.0->tensorflow) (0.4.4)\n",
      "Requirement already satisfied: google-auth<2,>=1.6.3 in c:\\users\\indrajeet\\.conda\\envs\\tensorflow\\lib\\site-packages (from tensorboard<3,>=2.3.0->tensorflow) (1.33.0)\n",
      "Requirement already satisfied: pyasn1-modules>=0.2.1 in c:\\users\\indrajeet\\.conda\\envs\\tensorflow\\lib\\site-packages (from google-auth<2,>=1.6.3->tensorboard<3,>=2.3.0->tensorflow) (0.2.8)\n",
      "Requirement already satisfied: rsa<5,>=3.1.4 in c:\\users\\indrajeet\\.conda\\envs\\tensorflow\\lib\\site-packages (from google-auth<2,>=1.6.3->tensorboard<3,>=2.3.0->tensorflow) (4.7.2)\n",
      "Requirement already satisfied: cachetools<5.0,>=2.0.0 in c:\\users\\indrajeet\\.conda\\envs\\tensorflow\\lib\\site-packages (from google-auth<2,>=1.6.3->tensorboard<3,>=2.3.0->tensorflow) (4.2.2)\n",
      "Requirement already satisfied: requests-oauthlib>=0.7.0 in c:\\users\\indrajeet\\.conda\\envs\\tensorflow\\lib\\site-packages (from google-auth-oauthlib<0.5,>=0.4.1->tensorboard<3,>=2.3.0->tensorflow) (1.3.0)\n",
      "Requirement already satisfied: pyasn1<0.5.0,>=0.4.6 in c:\\users\\indrajeet\\.conda\\envs\\tensorflow\\lib\\site-packages (from pyasn1-modules>=0.2.1->google-auth<2,>=1.6.3->tensorboard<3,>=2.3.0->tensorflow) (0.4.8)\n",
      "Requirement already satisfied: certifi>=2017.4.17 in c:\\users\\indrajeet\\.conda\\envs\\tensorflow\\lib\\site-packages (from requests<3,>=2.21.0->tensorboard<3,>=2.3.0->tensorflow) (2021.5.30)\n",
      "Requirement already satisfied: idna<3,>=2.5 in c:\\users\\indrajeet\\.conda\\envs\\tensorflow\\lib\\site-packages (from requests<3,>=2.21.0->tensorboard<3,>=2.3.0->tensorflow) (2.10)\n",
      "Requirement already satisfied: urllib3<1.27,>=1.21.1 in c:\\users\\indrajeet\\.conda\\envs\\tensorflow\\lib\\site-packages (from requests<3,>=2.21.0->tensorboard<3,>=2.3.0->tensorflow) (1.26.6)\n",
      "Requirement already satisfied: chardet<5,>=3.0.2 in c:\\users\\indrajeet\\.conda\\envs\\tensorflow\\lib\\site-packages (from requests<3,>=2.21.0->tensorboard<3,>=2.3.0->tensorflow) (3.0.4)\n",
      "Requirement already satisfied: oauthlib>=3.0.0 in c:\\users\\indrajeet\\.conda\\envs\\tensorflow\\lib\\site-packages (from requests-oauthlib>=0.7.0->google-auth-oauthlib<0.5,>=0.4.1->tensorboard<3,>=2.3.0->tensorflow) (3.1.1)\n",
      "Note: you may need to restart the kernel to use updated packages.\n"
     ]
    }
   ],
   "source": [
    "pip install tensorflow"
   ]
  },
  {
   "cell_type": "code",
   "execution_count": 2,
   "id": "83acb8da",
   "metadata": {},
   "outputs": [
    {
     "name": "stdout",
     "output_type": "stream",
     "text": [
      "Requirement already satisfied: pandas_datareader in c:\\users\\indrajeet\\.conda\\envs\\tensorflow\\lib\\site-packages (0.10.0)\n",
      "Requirement already satisfied: pandas>=0.23 in c:\\users\\indrajeet\\.conda\\envs\\tensorflow\\lib\\site-packages (from pandas_datareader) (1.3.1)\n",
      "Requirement already satisfied: requests>=2.19.0 in c:\\users\\indrajeet\\.conda\\envs\\tensorflow\\lib\\site-packages (from pandas_datareader) (2.25.1)\n",
      "Requirement already satisfied: lxml in c:\\users\\indrajeet\\.conda\\envs\\tensorflow\\lib\\site-packages (from pandas_datareader) (4.6.3)\n",
      "Requirement already satisfied: pytz>=2017.3 in c:\\users\\indrajeet\\.conda\\envs\\tensorflow\\lib\\site-packages (from pandas>=0.23->pandas_datareader) (2021.1)\n",
      "Requirement already satisfied: python-dateutil>=2.7.3 in c:\\users\\indrajeet\\.conda\\envs\\tensorflow\\lib\\site-packages (from pandas>=0.23->pandas_datareader) (2.8.2)\n",
      "Requirement already satisfied: numpy>=1.17.3 in c:\\users\\indrajeet\\.conda\\envs\\tensorflow\\lib\\site-packages (from pandas>=0.23->pandas_datareader) (1.18.5)\n",
      "Requirement already satisfied: six>=1.5 in c:\\users\\indrajeet\\.conda\\envs\\tensorflow\\lib\\site-packages (from python-dateutil>=2.7.3->pandas>=0.23->pandas_datareader) (1.16.0)\n",
      "Requirement already satisfied: chardet<5,>=3.0.2 in c:\\users\\indrajeet\\.conda\\envs\\tensorflow\\lib\\site-packages (from requests>=2.19.0->pandas_datareader) (3.0.4)\n",
      "Requirement already satisfied: idna<3,>=2.5 in c:\\users\\indrajeet\\.conda\\envs\\tensorflow\\lib\\site-packages (from requests>=2.19.0->pandas_datareader) (2.10)\n",
      "Requirement already satisfied: certifi>=2017.4.17 in c:\\users\\indrajeet\\.conda\\envs\\tensorflow\\lib\\site-packages (from requests>=2.19.0->pandas_datareader) (2021.5.30)\n",
      "Requirement already satisfied: urllib3<1.27,>=1.21.1 in c:\\users\\indrajeet\\.conda\\envs\\tensorflow\\lib\\site-packages (from requests>=2.19.0->pandas_datareader) (1.26.6)\n",
      "Note: you may need to restart the kernel to use updated packages.\n"
     ]
    }
   ],
   "source": [
    "pip install pandas_datareader"
   ]
  },
  {
   "cell_type": "code",
   "execution_count": 3,
   "id": "094abf12",
   "metadata": {},
   "outputs": [
    {
     "name": "stdout",
     "output_type": "stream",
     "text": [
      "Requirement already satisfied: keras in c:\\users\\indrajeet\\.conda\\envs\\tensorflow\\lib\\site-packages (2.4.3)\n",
      "Requirement already satisfied: numpy>=1.9.1 in c:\\users\\indrajeet\\.conda\\envs\\tensorflow\\lib\\site-packages (from keras) (1.18.5)\n",
      "Requirement already satisfied: h5py in c:\\users\\indrajeet\\.conda\\envs\\tensorflow\\lib\\site-packages (from keras) (2.10.0)\n",
      "Requirement already satisfied: scipy>=0.14 in c:\\users\\indrajeet\\.conda\\envs\\tensorflow\\lib\\site-packages (from keras) (1.4.1)\n",
      "Requirement already satisfied: pyyaml in c:\\users\\indrajeet\\.conda\\envs\\tensorflow\\lib\\site-packages (from keras) (5.4.1)\n",
      "Requirement already satisfied: six in c:\\users\\indrajeet\\.conda\\envs\\tensorflow\\lib\\site-packages (from h5py->keras) (1.16.0)\n",
      "Note: you may need to restart the kernel to use updated packages.\n"
     ]
    }
   ],
   "source": [
    "pip install keras"
   ]
  },
  {
   "cell_type": "code",
   "execution_count": 4,
   "id": "12d9b6fe",
   "metadata": {},
   "outputs": [
    {
     "name": "stdout",
     "output_type": "stream",
     "text": [
      "Requirement already satisfied: sklearn in c:\\users\\indrajeet\\.conda\\envs\\tensorflow\\lib\\site-packages (0.0)\n",
      "Requirement already satisfied: scikit-learn in c:\\users\\indrajeet\\.conda\\envs\\tensorflow\\lib\\site-packages (from sklearn) (0.24.2)\n",
      "Requirement already satisfied: threadpoolctl>=2.0.0 in c:\\users\\indrajeet\\.conda\\envs\\tensorflow\\lib\\site-packages (from scikit-learn->sklearn) (2.2.0)\n",
      "Requirement already satisfied: numpy>=1.13.3 in c:\\users\\indrajeet\\.conda\\envs\\tensorflow\\lib\\site-packages (from scikit-learn->sklearn) (1.18.5)\n",
      "Requirement already satisfied: joblib>=0.11 in c:\\users\\indrajeet\\.conda\\envs\\tensorflow\\lib\\site-packages (from scikit-learn->sklearn) (1.0.1)\n",
      "Requirement already satisfied: scipy>=0.19.1 in c:\\users\\indrajeet\\.conda\\envs\\tensorflow\\lib\\site-packages (from scikit-learn->sklearn) (1.4.1)\n",
      "Note: you may need to restart the kernel to use updated packages.\n"
     ]
    }
   ],
   "source": [
    "pip install sklearn"
   ]
  },
  {
   "cell_type": "code",
   "execution_count": 5,
   "id": "bdd20756",
   "metadata": {},
   "outputs": [
    {
     "name": "stdout",
     "output_type": "stream",
     "text": [
      "Requirement already satisfied: matplotlib in c:\\users\\indrajeet\\.conda\\envs\\tensorflow\\lib\\site-packages (3.4.2)\n",
      "Requirement already satisfied: python-dateutil>=2.7 in c:\\users\\indrajeet\\.conda\\envs\\tensorflow\\lib\\site-packages (from matplotlib) (2.8.2)\n",
      "Requirement already satisfied: cycler>=0.10 in c:\\users\\indrajeet\\.conda\\envs\\tensorflow\\lib\\site-packages (from matplotlib) (0.10.0)\n",
      "Requirement already satisfied: pillow>=6.2.0 in c:\\users\\indrajeet\\.conda\\envs\\tensorflow\\lib\\site-packages (from matplotlib) (8.3.1)\n",
      "Requirement already satisfied: numpy>=1.16 in c:\\users\\indrajeet\\.conda\\envs\\tensorflow\\lib\\site-packages (from matplotlib) (1.18.5)\n",
      "Requirement already satisfied: pyparsing>=2.2.1 in c:\\users\\indrajeet\\.conda\\envs\\tensorflow\\lib\\site-packages (from matplotlib) (2.4.7)\n",
      "Requirement already satisfied: kiwisolver>=1.0.1 in c:\\users\\indrajeet\\.conda\\envs\\tensorflow\\lib\\site-packages (from matplotlib) (1.3.1)\n",
      "Requirement already satisfied: six in c:\\users\\indrajeet\\.conda\\envs\\tensorflow\\lib\\site-packages (from cycler>=0.10->matplotlib) (1.16.0)\n",
      "Note: you may need to restart the kernel to use updated packages.\n"
     ]
    }
   ],
   "source": [
    "pip install matplotlib"
   ]
  },
  {
   "cell_type": "code",
   "execution_count": 6,
   "id": "4a505b10",
   "metadata": {},
   "outputs": [],
   "source": [
    "import math\n",
    "import pandas_datareader as web\n",
    "import numpy as np\n",
    "import pandas as pd\n",
    "from sklearn.preprocessing import MinMaxScaler \n",
    "from keras.models import Sequential\n",
    "from keras.layers import Dense, LSTM\n",
    "import matplotlib.pyplot as plt\n",
    "plt.style.use(\"fivethirtyeight\")"
   ]
  },
  {
   "cell_type": "code",
   "execution_count": 7,
   "id": "fb8c1493",
   "metadata": {},
   "outputs": [
    {
     "data": {
      "text/html": [
       "<div>\n",
       "<style scoped>\n",
       "    .dataframe tbody tr th:only-of-type {\n",
       "        vertical-align: middle;\n",
       "    }\n",
       "\n",
       "    .dataframe tbody tr th {\n",
       "        vertical-align: top;\n",
       "    }\n",
       "\n",
       "    .dataframe thead th {\n",
       "        text-align: right;\n",
       "    }\n",
       "</style>\n",
       "<table border=\"1\" class=\"dataframe\">\n",
       "  <thead>\n",
       "    <tr style=\"text-align: right;\">\n",
       "      <th></th>\n",
       "      <th>High</th>\n",
       "      <th>Low</th>\n",
       "      <th>Open</th>\n",
       "      <th>Close</th>\n",
       "      <th>Volume</th>\n",
       "      <th>Adj Close</th>\n",
       "    </tr>\n",
       "    <tr>\n",
       "      <th>Date</th>\n",
       "      <th></th>\n",
       "      <th></th>\n",
       "      <th></th>\n",
       "      <th></th>\n",
       "      <th></th>\n",
       "      <th></th>\n",
       "    </tr>\n",
       "  </thead>\n",
       "  <tbody>\n",
       "    <tr>\n",
       "      <th>2014-12-31</th>\n",
       "      <td>28.282499</td>\n",
       "      <td>27.552500</td>\n",
       "      <td>28.205000</td>\n",
       "      <td>27.594999</td>\n",
       "      <td>165613600.0</td>\n",
       "      <td>25.057606</td>\n",
       "    </tr>\n",
       "    <tr>\n",
       "      <th>2015-01-02</th>\n",
       "      <td>27.860001</td>\n",
       "      <td>26.837500</td>\n",
       "      <td>27.847500</td>\n",
       "      <td>27.332500</td>\n",
       "      <td>212818400.0</td>\n",
       "      <td>24.819241</td>\n",
       "    </tr>\n",
       "    <tr>\n",
       "      <th>2015-01-05</th>\n",
       "      <td>27.162500</td>\n",
       "      <td>26.352501</td>\n",
       "      <td>27.072500</td>\n",
       "      <td>26.562500</td>\n",
       "      <td>257142000.0</td>\n",
       "      <td>24.120045</td>\n",
       "    </tr>\n",
       "    <tr>\n",
       "      <th>2015-01-06</th>\n",
       "      <td>26.857500</td>\n",
       "      <td>26.157499</td>\n",
       "      <td>26.635000</td>\n",
       "      <td>26.565001</td>\n",
       "      <td>263188400.0</td>\n",
       "      <td>24.122320</td>\n",
       "    </tr>\n",
       "    <tr>\n",
       "      <th>2015-01-07</th>\n",
       "      <td>27.049999</td>\n",
       "      <td>26.674999</td>\n",
       "      <td>26.799999</td>\n",
       "      <td>26.937500</td>\n",
       "      <td>160423600.0</td>\n",
       "      <td>24.460564</td>\n",
       "    </tr>\n",
       "    <tr>\n",
       "      <th>...</th>\n",
       "      <td>...</td>\n",
       "      <td>...</td>\n",
       "      <td>...</td>\n",
       "      <td>...</td>\n",
       "      <td>...</td>\n",
       "      <td>...</td>\n",
       "    </tr>\n",
       "    <tr>\n",
       "      <th>2020-12-24</th>\n",
       "      <td>133.460007</td>\n",
       "      <td>131.100006</td>\n",
       "      <td>131.320007</td>\n",
       "      <td>131.970001</td>\n",
       "      <td>54930100.0</td>\n",
       "      <td>131.549637</td>\n",
       "    </tr>\n",
       "    <tr>\n",
       "      <th>2020-12-28</th>\n",
       "      <td>137.339996</td>\n",
       "      <td>133.509995</td>\n",
       "      <td>133.990005</td>\n",
       "      <td>136.690002</td>\n",
       "      <td>124486200.0</td>\n",
       "      <td>136.254608</td>\n",
       "    </tr>\n",
       "    <tr>\n",
       "      <th>2020-12-29</th>\n",
       "      <td>138.789993</td>\n",
       "      <td>134.339996</td>\n",
       "      <td>138.050003</td>\n",
       "      <td>134.869995</td>\n",
       "      <td>121047300.0</td>\n",
       "      <td>134.440399</td>\n",
       "    </tr>\n",
       "    <tr>\n",
       "      <th>2020-12-30</th>\n",
       "      <td>135.990005</td>\n",
       "      <td>133.399994</td>\n",
       "      <td>135.580002</td>\n",
       "      <td>133.720001</td>\n",
       "      <td>96452100.0</td>\n",
       "      <td>133.294067</td>\n",
       "    </tr>\n",
       "    <tr>\n",
       "      <th>2020-12-31</th>\n",
       "      <td>134.740005</td>\n",
       "      <td>131.720001</td>\n",
       "      <td>134.080002</td>\n",
       "      <td>132.690002</td>\n",
       "      <td>99116600.0</td>\n",
       "      <td>132.267349</td>\n",
       "    </tr>\n",
       "  </tbody>\n",
       "</table>\n",
       "<p>1512 rows × 6 columns</p>\n",
       "</div>"
      ],
      "text/plain": [
       "                  High         Low        Open       Close       Volume  \\\n",
       "Date                                                                      \n",
       "2014-12-31   28.282499   27.552500   28.205000   27.594999  165613600.0   \n",
       "2015-01-02   27.860001   26.837500   27.847500   27.332500  212818400.0   \n",
       "2015-01-05   27.162500   26.352501   27.072500   26.562500  257142000.0   \n",
       "2015-01-06   26.857500   26.157499   26.635000   26.565001  263188400.0   \n",
       "2015-01-07   27.049999   26.674999   26.799999   26.937500  160423600.0   \n",
       "...                ...         ...         ...         ...          ...   \n",
       "2020-12-24  133.460007  131.100006  131.320007  131.970001   54930100.0   \n",
       "2020-12-28  137.339996  133.509995  133.990005  136.690002  124486200.0   \n",
       "2020-12-29  138.789993  134.339996  138.050003  134.869995  121047300.0   \n",
       "2020-12-30  135.990005  133.399994  135.580002  133.720001   96452100.0   \n",
       "2020-12-31  134.740005  131.720001  134.080002  132.690002   99116600.0   \n",
       "\n",
       "             Adj Close  \n",
       "Date                    \n",
       "2014-12-31   25.057606  \n",
       "2015-01-02   24.819241  \n",
       "2015-01-05   24.120045  \n",
       "2015-01-06   24.122320  \n",
       "2015-01-07   24.460564  \n",
       "...                ...  \n",
       "2020-12-24  131.549637  \n",
       "2020-12-28  136.254608  \n",
       "2020-12-29  134.440399  \n",
       "2020-12-30  133.294067  \n",
       "2020-12-31  132.267349  \n",
       "\n",
       "[1512 rows x 6 columns]"
      ]
     },
     "execution_count": 7,
     "metadata": {},
     "output_type": "execute_result"
    }
   ],
   "source": [
    "# get the stock quote\n",
    "df = web.DataReader(\"AAPL\", data_source=\"yahoo\", start=\"2015-01-01\", end=\"2020-12-31\")\n",
    "df"
   ]
  },
  {
   "cell_type": "code",
   "execution_count": 18,
   "id": "936f511f",
   "metadata": {},
   "outputs": [
    {
     "data": {
      "text/plain": [
       "(1512, 6)"
      ]
     },
     "execution_count": 18,
     "metadata": {},
     "output_type": "execute_result"
    }
   ],
   "source": [
    "df.shape"
   ]
  },
  {
   "cell_type": "code",
   "execution_count": 8,
   "id": "8cb6c2ff",
   "metadata": {},
   "outputs": [
    {
     "data": {
      "image/png": "[encoded data removed]",
      "text/plain": [
       "<Figure size 1152x576 with 1 Axes>"
      ]
     },
     "metadata": {},
     "output_type": "display_data"
    }
   ],
   "source": [
    "# visualize the closing price history\n",
    "plt.figure(figsize=(16,8))\n",
    "plt.title(\"Close Price History\")\n",
    "plt.plot(df[\"Close\"])\n",
    "plt.xlabel(\"Date\", fontsize=18)\n",
    "plt.ylabel(\"Close Price USD($)\", fontsize=18)\n",
    "plt.show()"
   ]
  },
  {
   "cell_type": "code",
   "execution_count": 9,
   "id": "91ca8fe2",
   "metadata": {},
   "outputs": [
    {
     "data": {
      "text/plain": [
       "1210"
      ]
     },
     "execution_count": 9,
     "metadata": {},
     "output_type": "execute_result"
    }
   ],
   "source": [
    "# create a new dataframe with only \"close column\"\n",
    "data = df.filter([\"Close\"])\n",
    "#convert the dataframe to a numpy array\n",
    "dataset = data.values\n",
    "# get the number of rows to train the model on\n",
    "training_data_len = math.ceil(len(dataset) * 0.8)\n",
    "training_data_len"
   ]
  },
  {
   "cell_type": "code",
   "execution_count": 10,
   "id": "4730c1d5",
   "metadata": {},
   "outputs": [
    {
     "data": {
      "text/plain": [
       "array([[0.04390693],\n",
       "       [0.04160643],\n",
       "       [0.03485825],\n",
       "       ...,\n",
       "       [0.98404971],\n",
       "       [0.97397133],\n",
       "       [0.96494457]])"
      ]
     },
     "execution_count": 10,
     "metadata": {},
     "output_type": "execute_result"
    }
   ],
   "source": [
    "# scale the data\n",
    "scaler = MinMaxScaler(feature_range=(0,1))\n",
    "scaled_data = scaler.fit_transform(dataset)\n",
    "scaled_data"
   ]
  },
  {
   "cell_type": "code",
   "execution_count": 11,
   "id": "453a6838",
   "metadata": {},
   "outputs": [
    {
     "name": "stdout",
     "output_type": "stream",
     "text": [
      "[array([0.04390693, 0.04160643, 0.03485825, 0.03488017, 0.0381447 ,\n",
      "       0.04721529, 0.04747821, 0.04143114, 0.04355638, 0.04263618,\n",
      "       0.0361071 , 0.0342886 , 0.04026994, 0.04208844, 0.04833269,\n",
      "       0.04960345, 0.04986635, 0.04119014, 0.05470838, 0.06257395,\n",
      "       0.05876168, 0.06198238, 0.06202621, 0.06401998, 0.06485256,\n",
      "       0.06263968, 0.06437054, 0.06940975, 0.07567591, 0.07913764,\n",
      "       0.08049604, 0.08213927, 0.08408922, 0.08349765, 0.08579817,\n",
      "       0.09346655, 0.09164804, 0.08424257, 0.08781386, 0.08351959,\n",
      "       0.08489987, 0.08549144, 0.08369483, 0.0790281 , 0.07944437,\n",
      "       0.0806275 , 0.07486527, 0.06989177, 0.0747338 , 0.07284957,\n",
      "       0.07582928, 0.0804084 , 0.08354148, 0.08141625, 0.07791071,\n",
      "       0.08078086, 0.07964157, 0.07238947, 0.0742737 , 0.07210465])]\n",
      "[0.07894046130471902]\n",
      "\n"
     ]
    }
   ],
   "source": [
    "# create the training data set\n",
    "# create the scaled training dataset\n",
    "train_data = scaled_data[0:training_data_len, :]\n",
    "#split the data into x_train and y_train data sets\n",
    "x_train = []\n",
    "y_train = []\n",
    "for i in range (60, len(train_data)):\n",
    "    x_train.append(train_data[i-60:i, 0])\n",
    "    y_train.append(train_data[i,0])\n",
    "    if i<=60:\n",
    "        print(x_train)\n",
    "        print(y_train)\n",
    "        print()"
   ]
  },
  {
   "cell_type": "code",
   "execution_count": 12,
   "id": "0d15babe",
   "metadata": {},
   "outputs": [
    {
     "name": "stdout",
     "output_type": "stream",
     "text": [
      "[array([0.04390693, 0.04160643, 0.03485825, 0.03488017, 0.0381447 ,\n",
      "       0.04721529, 0.04747821, 0.04143114, 0.04355638, 0.04263618,\n",
      "       0.0361071 , 0.0342886 , 0.04026994, 0.04208844, 0.04833269,\n",
      "       0.04960345, 0.04986635, 0.04119014, 0.05470838, 0.06257395,\n",
      "       0.05876168, 0.06198238, 0.06202621, 0.06401998, 0.06485256,\n",
      "       0.06263968, 0.06437054, 0.06940975, 0.07567591, 0.07913764,\n",
      "       0.08049604, 0.08213927, 0.08408922, 0.08349765, 0.08579817,\n",
      "       0.09346655, 0.09164804, 0.08424257, 0.08781386, 0.08351959,\n",
      "       0.08489987, 0.08549144, 0.08369483, 0.0790281 , 0.07944437,\n",
      "       0.0806275 , 0.07486527, 0.06989177, 0.0747338 , 0.07284957,\n",
      "       0.07582928, 0.0804084 , 0.08354148, 0.08141625, 0.07791071,\n",
      "       0.08078086, 0.07964157, 0.07238947, 0.0742737 , 0.07210465])]\n",
      "[0.07894046130471902]\n",
      "\n",
      "[array([0.04390693, 0.04160643, 0.03485825, 0.03488017, 0.0381447 ,\n",
      "       0.04721529, 0.04747821, 0.04143114, 0.04355638, 0.04263618,\n",
      "       0.0361071 , 0.0342886 , 0.04026994, 0.04208844, 0.04833269,\n",
      "       0.04960345, 0.04986635, 0.04119014, 0.05470838, 0.06257395,\n",
      "       0.05876168, 0.06198238, 0.06202621, 0.06401998, 0.06485256,\n",
      "       0.06263968, 0.06437054, 0.06940975, 0.07567591, 0.07913764,\n",
      "       0.08049604, 0.08213927, 0.08408922, 0.08349765, 0.08579817,\n",
      "       0.09346655, 0.09164804, 0.08424257, 0.08781386, 0.08351959,\n",
      "       0.08489987, 0.08549144, 0.08369483, 0.0790281 , 0.07944437,\n",
      "       0.0806275 , 0.07486527, 0.06989177, 0.0747338 , 0.07284957,\n",
      "       0.07582928, 0.0804084 , 0.08354148, 0.08141625, 0.07791071,\n",
      "       0.08078086, 0.07964157, 0.07238947, 0.0742737 , 0.07210465]), array([0.04160643, 0.03485825, 0.03488017, 0.0381447 , 0.04721529,\n",
      "       0.04747821, 0.04143114, 0.04355638, 0.04263618, 0.0361071 ,\n",
      "       0.0342886 , 0.04026994, 0.04208844, 0.04833269, 0.04960345,\n",
      "       0.04986635, 0.04119014, 0.05470838, 0.06257395, 0.05876168,\n",
      "       0.06198238, 0.06202621, 0.06401998, 0.06485256, 0.06263968,\n",
      "       0.06437054, 0.06940975, 0.07567591, 0.07913764, 0.08049604,\n",
      "       0.08213927, 0.08408922, 0.08349765, 0.08579817, 0.09346655,\n",
      "       0.09164804, 0.08424257, 0.08781386, 0.08351959, 0.08489987,\n",
      "       0.08549144, 0.08369483, 0.0790281 , 0.07944437, 0.0806275 ,\n",
      "       0.07486527, 0.06989177, 0.0747338 , 0.07284957, 0.07582928,\n",
      "       0.0804084 , 0.08354148, 0.08141625, 0.07791071, 0.08078086,\n",
      "       0.07964157, 0.07238947, 0.0742737 , 0.07210465, 0.07894046])]\n",
      "[0.07894046130471902, 0.0746899850233729]\n",
      "\n"
     ]
    }
   ],
   "source": [
    "# create the training data set\n",
    "# create the scaled training dataset\n",
    "train_data = scaled_data[0:training_data_len, :]\n",
    "#split the data into x_train and y_train data sets\n",
    "x_train = []\n",
    "y_train = []\n",
    "for i in range (60, len(train_data)):\n",
    "    x_train.append(train_data[i-60:i, 0])\n",
    "    y_train.append(train_data[i,0])\n",
    "    if i<=61:\n",
    "        print(x_train)\n",
    "        print(y_train)\n",
    "        print()"
   ]
  },
  {
   "cell_type": "code",
   "execution_count": 14,
   "id": "d7ae1214",
   "metadata": {},
   "outputs": [
    {
     "data": {
      "text/plain": [
       "(1150, 60, 1)"
      ]
     },
     "execution_count": 14,
     "metadata": {},
     "output_type": "execute_result"
    }
   ],
   "source": [
    "# convert the x_train and y_train to numpy arrays\n",
    "x_train, y_train = np.array(x_train), np.array(y_train)\n",
    "# Reshape the data\n",
    "x_train = np.reshape(x_train, (x_train.shape[0], x_train.shape[1], 1))\n",
    "x_train.shape"
   ]
  },
  {
   "cell_type": "code",
   "execution_count": 17,
   "id": "ef6adad0",
   "metadata": {},
   "outputs": [],
   "source": [
    "# Building the LSTM model\n",
    "model = Sequential()\n",
    "model.add(LSTM(50, return_sequences = True, input_shape =(x_train.shape[1],1)))\n",
    "model.add(LSTM(50, return_sequences = False))\n",
    "model.add(Dense(25))\n",
    "model.add(Dense(1))\n",
    "\n"
   ]
  },
  {
   "cell_type": "code",
   "execution_count": 18,
   "id": "b9af474c",
   "metadata": {},
   "outputs": [],
   "source": [
    "# compile the model\n",
    "model.compile(optimizer = \"adam\", loss=\"mean_squared_error\")"
   ]
  },
  {
   "cell_type": "code",
   "execution_count": 19,
   "id": "521a517d",
   "metadata": {},
   "outputs": [
    {
     "name": "stdout",
     "output_type": "stream",
     "text": [
      "1150/1150 [==============================] - 11s 10ms/step - loss: 4.2934e-04\n"
     ]
    },
    {
     "data": {
      "text/plain": [
       "<tensorflow.python.keras.callbacks.History at 0x242260af6d0>"
      ]
     },
     "execution_count": 19,
     "metadata": {},
     "output_type": "execute_result"
    }
   ],
   "source": [
    "#train the model\n",
    "model.fit(x_train, y_train, batch_size=1, epochs=1)"
   ]
  },
  {
   "cell_type": "code",
   "execution_count": 21,
   "id": "a852c0eb",
   "metadata": {},
   "outputs": [],
   "source": [
    "# Create a testing data set\n",
    "# create a new array containing scaled values from index 1150 to 2000\n",
    "test_data = scaled_data[training_data_len - 60:]\n",
    "# create the data sets x_test and y_test\n",
    "x_test = []\n",
    "y_test = dataset[training_data_len:, :]\n",
    "for i in range (60,len(test_data)):\n",
    "    x_test.append(test_data[i-60: i,0])"
   ]
  },
  {
   "cell_type": "code",
   "execution_count": 22,
   "id": "19ac1ca7",
   "metadata": {},
   "outputs": [],
   "source": [
    "# convert the data to numpy array\n",
    "x_test = np.array(x_test)"
   ]
  },
  {
   "cell_type": "code",
   "execution_count": 23,
   "id": "5fe04245",
   "metadata": {},
   "outputs": [],
   "source": [
    "# reshape the data\n",
    "x_test = np.reshape(x_test,(x_test.shape[0], x_test.shape[1],1))"
   ]
  },
  {
   "cell_type": "code",
   "execution_count": 24,
   "id": "3398dece",
   "metadata": {},
   "outputs": [],
   "source": [
    "# get the models predicted price values\n",
    "predictions = model.predict(x_test)\n",
    "predictions = scaler.inverse_transform(predictions)\n"
   ]
  },
  {
   "cell_type": "code",
   "execution_count": 25,
   "id": "ffebad29",
   "metadata": {},
   "outputs": [
    {
     "data": {
      "text/plain": [
       "2.4105260230058074"
      ]
     },
     "execution_count": 25,
     "metadata": {},
     "output_type": "execute_result"
    }
   ],
   "source": [
    "# get the root mean squared error(RMSE)\n",
    "rmse=np.sqrt(np.mean(predictions - y_test)**2)\n",
    "rmse"
   ]
  },
  {
   "cell_type": "code",
   "execution_count": 29,
   "id": "cde4e22d",
   "metadata": {},
   "outputs": [
    {
     "name": "stderr",
     "output_type": "stream",
     "text": [
      "<ipython-input-29-0ea53d95669a>:3: SettingWithCopyWarning: \n",
      "A value is trying to be set on a copy of a slice from a DataFrame.\n",
      "Try using .loc[row_indexer,col_indexer] = value instead\n",
      "\n",
      "See the caveats in the documentation: https://pandas.pydata.org/pandas-docs/stable/user_guide/indexing.html#returning-a-view-versus-a-copy\n",
      "  valid[\"Predictions\"] = predictions\n"
     ]
    }
   ],
   "source": [
    "train = data[:training_data_len]\n",
    "valid = data[training_data_len:]\n",
    "valid[\"Predictions\"] = predictions\n",
    "\n"
   ]
  },
  {
   "cell_type": "code",
   "execution_count": 31,
   "id": "492b1361",
   "metadata": {},
   "outputs": [
    {
     "data": {
      "text/plain": [
       "<matplotlib.legend.Legend at 0x2422cf75220>"
      ]
     },
     "execution_count": 31,
     "metadata": {},
     "output_type": "execute_result"
    },
    {
     "data": {
      "image/png": "[encoded data removed]",
      "text/plain": [
       "<Figure size 1152x576 with 1 Axes>"
      ]
     },
     "metadata": {},
     "output_type": "display_data"
    }
   ],
   "source": [
    "# visualize the data\n",
    "plt.figure(figsize=(16,8))\n",
    "plt.title(\"Model\")\n",
    "plt.xlabel(\"Date\", fontsize=18)\n",
    "plt.ylabel(\"Close Price USD($)\", fontsize=18)\n",
    "plt.plot(train[\"Close\"])\n",
    "plt.plot(valid[[\"Close\", \"Predictions\"]])\n",
    "plt.legend([\"Train\", \"Val\", \"Predictions\"], loc = \"lower right\")\n"
   ]
  },
  {
   "cell_type": "code",
   "execution_count": 32,
   "id": "3b1786f2",
   "metadata": {},
   "outputs": [
    {
     "data": {
      "text/html": [
       "<div>\n",
       "<style scoped>\n",
       "    .dataframe tbody tr th:only-of-type {\n",
       "        vertical-align: middle;\n",
       "    }\n",
       "\n",
       "    .dataframe tbody tr th {\n",
       "        vertical-align: top;\n",
       "    }\n",
       "\n",
       "    .dataframe thead th {\n",
       "        text-align: right;\n",
       "    }\n",
       "</style>\n",
       "<table border=\"1\" class=\"dataframe\">\n",
       "  <thead>\n",
       "    <tr style=\"text-align: right;\">\n",
       "      <th></th>\n",
       "      <th>Close</th>\n",
       "      <th>Predictions</th>\n",
       "    </tr>\n",
       "    <tr>\n",
       "      <th>Date</th>\n",
       "      <th></th>\n",
       "      <th></th>\n",
       "    </tr>\n",
       "  </thead>\n",
       "  <tbody>\n",
       "    <tr>\n",
       "      <th>2019-10-22</th>\n",
       "      <td>59.990002</td>\n",
       "      <td>57.955299</td>\n",
       "    </tr>\n",
       "    <tr>\n",
       "      <th>2019-10-23</th>\n",
       "      <td>60.794998</td>\n",
       "      <td>58.258419</td>\n",
       "    </tr>\n",
       "    <tr>\n",
       "      <th>2019-10-24</th>\n",
       "      <td>60.895000</td>\n",
       "      <td>58.602158</td>\n",
       "    </tr>\n",
       "    <tr>\n",
       "      <th>2019-10-25</th>\n",
       "      <td>61.645000</td>\n",
       "      <td>58.946182</td>\n",
       "    </tr>\n",
       "    <tr>\n",
       "      <th>2019-10-28</th>\n",
       "      <td>62.262501</td>\n",
       "      <td>59.329872</td>\n",
       "    </tr>\n",
       "    <tr>\n",
       "      <th>...</th>\n",
       "      <td>...</td>\n",
       "      <td>...</td>\n",
       "    </tr>\n",
       "    <tr>\n",
       "      <th>2020-12-24</th>\n",
       "      <td>131.970001</td>\n",
       "      <td>125.162552</td>\n",
       "    </tr>\n",
       "    <tr>\n",
       "      <th>2020-12-28</th>\n",
       "      <td>136.690002</td>\n",
       "      <td>125.998688</td>\n",
       "    </tr>\n",
       "    <tr>\n",
       "      <th>2020-12-29</th>\n",
       "      <td>134.869995</td>\n",
       "      <td>127.221504</td>\n",
       "    </tr>\n",
       "    <tr>\n",
       "      <th>2020-12-30</th>\n",
       "      <td>133.720001</td>\n",
       "      <td>128.310165</td>\n",
       "    </tr>\n",
       "    <tr>\n",
       "      <th>2020-12-31</th>\n",
       "      <td>132.690002</td>\n",
       "      <td>129.115524</td>\n",
       "    </tr>\n",
       "  </tbody>\n",
       "</table>\n",
       "<p>302 rows × 2 columns</p>\n",
       "</div>"
      ],
      "text/plain": [
       "                 Close  Predictions\n",
       "Date                               \n",
       "2019-10-22   59.990002    57.955299\n",
       "2019-10-23   60.794998    58.258419\n",
       "2019-10-24   60.895000    58.602158\n",
       "2019-10-25   61.645000    58.946182\n",
       "2019-10-28   62.262501    59.329872\n",
       "...                ...          ...\n",
       "2020-12-24  131.970001   125.162552\n",
       "2020-12-28  136.690002   125.998688\n",
       "2020-12-29  134.869995   127.221504\n",
       "2020-12-30  133.720001   128.310165\n",
       "2020-12-31  132.690002   129.115524\n",
       "\n",
       "[302 rows x 2 columns]"
      ]
     },
     "execution_count": 32,
     "metadata": {},
     "output_type": "execute_result"
    }
   ],
   "source": [
    "# show the valid and predicted prices\n",
    "valid"
   ]
  },
  {
   "cell_type": "code",
   "execution_count": 39,
   "id": "82fdcb8f",
   "metadata": {},
   "outputs": [
    {
     "name": "stdout",
     "output_type": "stream",
     "text": [
      "[[129.58032]]\n"
     ]
    }
   ],
   "source": [
    "# get the quote \n",
    "apple_quote = web.DataReader(\"AAPL\", data_source=\"yahoo\", start=\"2015-01-01\", end=\"2020-12-31\")\n",
    "# create new dataframe\n",
    "new_df = apple_quote.filter([\"Close\"])\n",
    "# Get the last 60 day closing price values and convert the dataframe to an array\n",
    "last_60_days = new_df[-60:].values\n",
    "# Scale the data to be values between 0 and 1\n",
    "last_60_days_scaled = scaler.transform(last_60_days)\n",
    "# create an empty list\n",
    "X_test = []\n",
    "# append the past 60 days\n",
    "X_test.append(last_60_days_scaled)\n",
    "# Convert the X_test sata set to a numpy array\n",
    "X_test = np.array(X_test)\n",
    "# Reshape the data\n",
    "X_test = np.reshape(X_test, (X_test.shape[0], X_test.shape[1],1))\n",
    "# Get the predicted scaled price\n",
    "pred_price = model.predict(X_test)\n",
    "#undo the scaling\n",
    "pred_price =scaler.inverse_transform(pred_price)\n",
    "print(pred_price)\n",
    "\n"
   ]
  },
  {
   "cell_type": "code",
   "execution_count": 44,
   "id": "8d8463f2",
   "metadata": {},
   "outputs": [
    {
     "name": "stdout",
     "output_type": "stream",
     "text": [
      "Date\n",
      "2020-12-31    132.690002\n",
      "Name: Close, dtype: float64\n"
     ]
    }
   ],
   "source": [
    "# get the quote \n",
    "apple_quote2 = web.DataReader(\"AAPL\", data_source=\"yahoo\", start=\"2021-01-01\", end=\"2021-01-01\")\n",
    "print(apple_quote2[\"Close\"])"
   ]
  },
  {
   "cell_type": "code",
   "execution_count": null,
   "id": "f017a950",
   "metadata": {},
   "outputs": [],
   "source": []
  }
 ],
 "metadata": {
  "kernelspec": {
   "display_name": "Python 3",
   "language": "python",
   "name": "python3"
  },
  "language_info": {
   "codemirror_mode": {
    "name": "ipython",
    "version": 3
   },
   "file_extension": ".py",
   "mimetype": "text/x-python",
   "name": "python",
   "nbconvert_exporter": "python",
   "pygments_lexer": "ipython3",
   "version": "3.8.8"
  }
 },
 "nbformat": 4,
 "nbformat_minor": 5
}
